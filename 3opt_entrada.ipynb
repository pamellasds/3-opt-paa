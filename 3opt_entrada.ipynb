{
 "cells": [
  {
   "cell_type": "code",
   "execution_count": 225,
   "metadata": {},
   "outputs": [],
   "source": [
    "def entrada(nome_arq):\n",
    "    import numpy as np\n",
    "    #Abrir o Arquivo\n",
    "    arq = open(nome_arq, 'r')\n",
    "    \n",
    "    #Recupera o tipo e o tamanho do grafo\n",
    "    texto = arq.readline()\n",
    "    split = texto.split()http://localhost:8888/notebooks/3opt.ipynb#\n",
    "    N = int(split[0].split('=')[1])\n",
    "    tipo = int(split[1].split('=')[1])\n",
    "    \n",
    "    cidades = np.empty((N,N), dtype = int)\n",
    "    \n",
    "    #Para Tipo = 1\n",
    "    if tipo == 1:\n",
    "        for i in range(0, N):\n",
    "            texto = arq.readline()\n",
    "            split = texto.split()\n",
    "            cidades[i,i] = 0\n",
    "            count = 0\n",
    "            for j in range(i+1, N):\n",
    "                cidades[i,j] = int(split[count])\n",
    "                cidades[j,i] = cidades[i,j]\n",
    "                count = count + 1  \n",
    "    \n",
    "    \n",
    "    #Para Tipo = 2\n",
    "    if tipo == 2:\n",
    "        vetX = np.empty((N,1))\n",
    "        vetY = np.empty((N,1))\n",
    "        for i in range(0, N):\n",
    "            texto = arq.readline()\n",
    "            split = texto.split()\n",
    "            #cidades[i,i] = 0\n",
    "            \n",
    "            #print(split)\n",
    "            #print(vetX)\n",
    "            #print(vetY)\n",
    "            \n",
    "            vetX[i] = float(split[0])\n",
    "            vetY[i] = float(split[1])   \n",
    "            \n",
    "        for i in range(0, N):\n",
    "            for j in range(0, N):\n",
    "                                \n",
    "                x = vetX[i] - vetX[j]\n",
    "                y = vetY[i] - vetY[j]\n",
    "                cidades[i,j] = ((x**2) + (y**2))**(1/2)\n",
    "    \n",
    "    \n",
    "    #Para tipo = 3\n",
    "    if tipo == 3:\n",
    "        for i in range(0, N):\n",
    "            texto = arq.readline()\n",
    "            split = texto.split()\n",
    "            for j in range(0, N):\n",
    "                cidades[i,j] = int(split[j])\n",
    "\n",
    "    \n",
    "    \n",
    "    arq.close()\n",
    "\n",
    "    return cidades\n",
    "    \n",
    "    \n",
    "    \n",
    "    \n",
    "    "
   ]
  },
  {
   "cell_type": "code",
   "execution_count": 228,
   "metadata": {},
   "outputs": [],
   "source": [
    "#entrada('Tsp29t1.txt')"
   ]
  },
  {
   "cell_type": "code",
   "execution_count": 229,
   "metadata": {},
   "outputs": [],
   "source": [
    "#entrada('tsp10t3.txt')"
   ]
  },
  {
   "cell_type": "code",
   "execution_count": 230,
   "metadata": {},
   "outputs": [
    {
     "data": {
      "text/plain": [
       "array([[ 0, 20, 24, ..., 43, 34, 17],\n",
       "       [20,  0, 18, ..., 36, 28,  8],\n",
       "       [24, 18,  0, ..., 19, 10, 10],\n",
       "       ...,\n",
       "       [43, 36, 19, ...,  0,  8, 29],\n",
       "       [34, 28, 10, ...,  8,  0, 20],\n",
       "       [17,  8, 10, ..., 29, 20,  0]])"
      ]
     },
     "execution_count": 230,
     "metadata": {},
     "output_type": "execute_result"
    }
   ],
   "source": [
    "entrada('Tsp280t2.txt')"
   ]
  },
  {
   "cell_type": "code",
   "execution_count": null,
   "metadata": {},
   "outputs": [],
   "source": []
  }
 ],
 "metadata": {
  "kernelspec": {
   "display_name": "Python 3",
   "language": "python",
   "name": "python3"
  },
  "language_info": {
   "codemirror_mode": {
    "name": "ipython",
    "version": 3
   },
   "file_extension": ".py",
   "mimetype": "text/x-python",
   "name": "python",
   "nbconvert_exporter": "python",
   "pygments_lexer": "ipython3",
   "version": "3.7.1"
  }
 },
 "nbformat": 4,
 "nbformat_minor": 2
}
